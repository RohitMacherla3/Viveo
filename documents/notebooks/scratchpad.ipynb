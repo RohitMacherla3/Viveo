{
 "cells": [
  {
   "cell_type": "markdown",
   "id": "247f22fe",
   "metadata": {},
   "source": [
    "# Make it executable\n",
    "chmod +x deploy.sh\n",
    "\n",
    "# Mac development (auto-detected)\n",
    "./deploy.sh\n",
    "\n",
    "# Mac development with custom path\n",
    "./deploy.sh --path /myapp\n",
    "\n",
    "# Server production with SSL\n",
    "./deploy.sh --env server --mode production --ssl --domain myserver.com\n",
    "\n",
    "# Server with custom domain and path\n",
    "./deploy.sh --env server --domain viveo.mycompany.com --path /nutrition\n",
    "\n",
    "# Stop services\n",
    "./deploy.sh stop\n",
    "\n",
    "# View logs\n",
    "./deploy.sh logs backend\n",
    "\n",
    "# Check status\n",
    "./deploy.sh status"
   ]
  },
  {
   "cell_type": "markdown",
   "id": "71caa842",
   "metadata": {},
   "source": []
  }
 ],
 "metadata": {
  "language_info": {
   "name": "python"
  }
 },
 "nbformat": 4,
 "nbformat_minor": 5
}
