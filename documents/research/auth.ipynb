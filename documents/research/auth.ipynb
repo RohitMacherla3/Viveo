{
 "cells": [
  {
   "cell_type": "code",
   "execution_count": 2,
   "id": "769e0c21",
   "metadata": {},
   "outputs": [],
   "source": [
    "from fastapi import APIRouter, Depends, HTTPException\n",
    "from fastapi.security import OAuth2PasswordBearer, OAuth2PasswordRequestForm\n",
    "from pydantic import BaseModel\n",
    "from typing import Optional\n",
    "from passlib.context import CryptContext"
   ]
  },
  {
   "cell_type": "code",
   "execution_count": null,
   "id": "545a6995",
   "metadata": {},
   "outputs": [
    {
     "name": "stdout",
     "output_type": "stream",
     "text": [
      "<fastapi.security.oauth2.OAuth2PasswordBearer object at 0x10db61810>\n"
     ]
    }
   ],
   "source": [
    "oauth2_scheme = OAuth2PasswordBearer(tokenUrl=\"token\")"
   ]
  },
  {
   "cell_type": "code",
   "execution_count": 13,
   "id": "430b8bba",
   "metadata": {},
   "outputs": [
    {
     "name": "stdout",
     "output_type": "stream",
     "text": [
      "$2b$12$MKfV6atcq.rZcRS4XIYUmORjCg/Ym1CyeUWfDr9Blf9kWNNWmPNae\n"
     ]
    }
   ],
   "source": [
    "pwd_context = CryptContext(schemes=[\"bcrypt\"], deprecated=\"auto\")\n",
    "hashed_pwd = pwd_context.hash(\"secret\")\n",
    "print(hashed_pwd)"
   ]
  },
  {
   "cell_type": "code",
   "execution_count": 19,
   "id": "fe22ac32",
   "metadata": {},
   "outputs": [
    {
     "data": {
      "text/plain": [
       "{'johndoe': UserInDB(username='johndoe', full_name='John Doe', email='johndoe@example.com', disabled=None, hashed_password='$2b$12$r4nnx1zov6GMtH4LvcZCEeE6DTISn4BYfMrQud2e7f07YfL19GmPy')}"
      ]
     },
     "execution_count": 19,
     "metadata": {},
     "output_type": "execute_result"
    }
   ],
   "source": [
    "# User model\n",
    "class User(BaseModel):\n",
    "    username: str\n",
    "    full_name: Optional[str] = None\n",
    "    email: Optional[str] = None\n",
    "    disabled: Optional[bool] = None\n",
    "    \n",
    "# User in database model\n",
    "class UserInDB(User):\n",
    "    hashed_password: str\n",
    "    \n",
    "# Fake database for demonstration purposes\n",
    "fake_users_db = {\n",
    "    \"johndoe\": UserInDB(\n",
    "        username=\"johndoe\",\n",
    "        full_name=\"John Doe\",\n",
    "        email=\"johndoe@example.com\",\n",
    "        hashed_password=pwd_context.hash(\"secret\")\n",
    "    )\n",
    "}\n",
    "fake_users_db"
   ]
  },
  {
   "cell_type": "code",
   "execution_count": null,
   "id": "acc876f0",
   "metadata": {},
   "outputs": [
    {
     "data": {
      "text/plain": [
       "UserInDB(username='johndoe', full_name='John Doe', email='johndoe@example.com', disabled=None, hashed_password='$2b$12$r4nnx1zov6GMtH4LvcZCEeE6DTISn4BYfMrQud2e7f07YfL19GmPy')"
      ]
     },
     "execution_count": 22,
     "metadata": {},
     "output_type": "execute_result"
    }
   ],
   "source": [
    "def get_user(db, username: str) -> Optional[UserInDB]:\n",
    "    if username in db:\n",
    "        user_obj = db[username]\n",
    "        if isinstance(user_obj, UserInDB):\n",
    "            return user_obj\n",
    "        return UserInDB(**user_obj)\n",
    "    return None\n",
    "\n",
    "get_user(fake_users_db, \"johndoe\")"
   ]
  },
  {
   "cell_type": "code",
   "execution_count": 23,
   "id": "60c646f6",
   "metadata": {},
   "outputs": [
    {
     "data": {
      "text/plain": [
       "True"
      ]
     },
     "execution_count": 23,
     "metadata": {},
     "output_type": "execute_result"
    }
   ],
   "source": [
    "def verify_password(plain_password: str, hashed_password: str) -> bool:\n",
    "    return pwd_context.verify(plain_password, hashed_password)\n",
    "\n",
    "verify_password(\"secret\", \"$2b$12$r4nnx1zov6GMtH4LvcZCEeE6DTISn4BYfMrQud2e7f07YfL19GmPy\")"
   ]
  },
  {
   "cell_type": "code",
   "execution_count": 26,
   "id": "ffc5bca7",
   "metadata": {},
   "outputs": [
    {
     "data": {
      "text/plain": [
       "UserInDB(username='johndoe', full_name='John Doe', email='johndoe@example.com', disabled=None, hashed_password='$2b$12$r4nnx1zov6GMtH4LvcZCEeE6DTISn4BYfMrQud2e7f07YfL19GmPy')"
      ]
     },
     "execution_count": 26,
     "metadata": {},
     "output_type": "execute_result"
    }
   ],
   "source": [
    "def authenticate_user(db, username: str, password: str) -> Optional[UserInDB]:\n",
    "    user = get_user(db, username)\n",
    "    if not user:\n",
    "        return None\n",
    "    if not verify_password(password, user.hashed_password):\n",
    "        return None\n",
    "    return user\n",
    "\n",
    "authenticate_user(fake_users_db, \"johndoe\", \"secret\")"
   ]
  },
  {
   "cell_type": "code",
   "execution_count": null,
   "id": "880b1685",
   "metadata": {},
   "outputs": [],
   "source": []
  }
 ],
 "metadata": {
  "kernelspec": {
   "display_name": ".venv",
   "language": "python",
   "name": "python3"
  },
  "language_info": {
   "codemirror_mode": {
    "name": "ipython",
    "version": 3
   },
   "file_extension": ".py",
   "mimetype": "text/x-python",
   "name": "python",
   "nbconvert_exporter": "python",
   "pygments_lexer": "ipython3",
   "version": "3.13.5"
  }
 },
 "nbformat": 4,
 "nbformat_minor": 5
}
